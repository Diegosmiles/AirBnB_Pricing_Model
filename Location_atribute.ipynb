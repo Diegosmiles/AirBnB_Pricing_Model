{
 "cells": [
  {
   "cell_type": "code",
   "execution_count": 1,
   "metadata": {
    "collapsed": false
   },
   "outputs": [
    {
     "name": "stdout",
     "output_type": "stream",
     "text": [
      "Populating the interactive namespace from numpy and matplotlib\n"
     ]
    }
   ],
   "source": [
    "import pylab as pl\n",
    "import pandas as pd\n",
    "import numpy as np\n",
    "%pylab inline\n",
    "import json\n",
    "import os\n",
    "import scipy.stats\n",
    "import math\n",
    "import requests\n",
    "import StringIO\n",
    "import zipfile\n",
    "import geopandas as gp\n",
    "import statsmodels.api as sm\n",
    "import urllib2\n",
    "import re\n",
    "import statsmodels.formula.api as smf"
   ]
  },
  {
   "cell_type": "code",
   "execution_count": 2,
   "metadata": {
    "collapsed": false
   },
   "outputs": [
    {
     "data": {
      "text/plain": [
       "Index([u'id', u'name', u'host_id', u'host_name', u'neighbourhood_group',\n",
       "       u'neighbourhood', u'latitude', u'longitude', u'room_type', u'price',\n",
       "       u'minimum_nights', u'number_of_reviews', u'last_review',\n",
       "       u'reviews_per_month', u'calculated_host_listings_count',\n",
       "       u'availability_365'],\n",
       "      dtype='object')"
      ]
     },
     "execution_count": 2,
     "metadata": {},
     "output_type": "execute_result"
    }
   ],
   "source": [
    "listings = pd.read_csv('listings.csv')\n",
    "listings.columns"
   ]
  },
  {
   "cell_type": "code",
   "execution_count": 3,
   "metadata": {
    "collapsed": false
   },
   "outputs": [
    {
     "data": {
      "text/plain": [
       "Index([u'FID', u'FID_man_st', u'FID_nyctsu', u'stop_id', u'stop_code',\n",
       "       u'stop_name', u'stop_desc', u'stop_lat', u'stop_lon', u'zone_id',\n",
       "       u'stop_url', u'location_t', u'parent_sta', u'FID_nybb', u'BoroCode',\n",
       "       u'BoroName', u'Shape_Leng', u'Shape_Area', u'BUFF_DIST', u'FID_bnb_ma',\n",
       "       u'FID_bnb_li', u'id', u'name', u'host_id', u'host_name', u'neighbourh',\n",
       "       u'neighbou_1', u'latitude', u'longitude', u'room_type', u'price',\n",
       "       u'minimum_ni', u'number_of_', u'last_revie', u'reviews_pe',\n",
       "       u'calculated', u'availabili', u'FID_nybb_1', u'BoroCode_1',\n",
       "       u'BoroName_1', u'Shape_Le_1', u'Shape_Ar_1'],\n",
       "      dtype='object')"
      ]
     },
     "execution_count": 3,
     "metadata": {},
     "output_type": "execute_result"
    }
   ],
   "source": [
    "#bnb_man_nearstops are the listings that are near to one or more MTA stations\n",
    "bnb_man_nearstops = pd.read_csv('bnb_man_nearstops.txt', sep=';')\n",
    "bnb_man_nearstops.columns"
   ]
  },
  {
   "cell_type": "code",
   "execution_count": 4,
   "metadata": {
    "collapsed": false
   },
   "outputs": [
    {
     "name": "stderr",
     "output_type": "stream",
     "text": [
      "C:\\Users\\Marco\\Anaconda\\lib\\site-packages\\IPython\\kernel\\__main__.py:7: SettingWithCopyWarning: \n",
      "A value is trying to be set on a copy of a slice from a DataFrame.\n",
      "Try using .loc[row_indexer,col_indexer] = value instead\n",
      "\n",
      "See the the caveats in the documentation: http://pandas.pydata.org/pandas-docs/stable/indexing.html#indexing-view-versus-copy\n"
     ]
    }
   ],
   "source": [
    "#Df1 is my subset of bnb_man_nearstops data with the relevant columns (excluding the mta station attributes)\n",
    "list_of_drops=['FID','FID_man_st', 'FID_nyctsu', 'stop_id', 'stop_code','stop_name', 'stop_desc', 'stop_lat', 'stop_lon', 'zone_id','stop_url', 'location_t', 'parent_sta','FID_nybb', 'BoroCode','BoroName', 'Shape_Leng', 'Shape_Area', 'BUFF_DIST', 'FID_bnb_ma','FID_bnb_li', 'FID_nybb_1', 'BoroCode_1','BoroName_1', 'Shape_Le_1', 'Shape_Ar_1']\n",
    "df1=bnb_man_nearstops.drop(list_of_drops,1)\n",
    "#df4 is the same as df1, but im eliminating duplicate rows (airbnb rooms near to multiple subway stations)\n",
    "#safety_indicator is a column which assigns 1 to listings near to a mta station. \n",
    "df4 = df1.drop_duplicates(subset='id', take_last=True)\n",
    "df4['location_indicator']=1\n",
    "#I will keep as df2 the list of just the id and the safety_indicator of the listings. \n",
    "list_of_drops=['name', 'host_id', 'host_name','neighbourh', 'neighbou_1','latitude','longitude', 'room_type', 'price', 'minimum_ni','number_of_', 'last_revie', 'reviews_pe','calculated','availabili']\n",
    "df2=df4.drop(list_of_drops,1)    "
   ]
  },
  {
   "cell_type": "code",
   "execution_count": 5,
   "metadata": {
    "collapsed": false
   },
   "outputs": [],
   "source": [
    "#bnb_br_nearstops are the listings that are near to one or more MTA stations in Brooklyn\n",
    "bnb_br_nearstops = pd.read_csv('bnb_br_nearstops.txt', sep=';')"
   ]
  },
  {
   "cell_type": "code",
   "execution_count": 6,
   "metadata": {
    "collapsed": false
   },
   "outputs": [
    {
     "name": "stderr",
     "output_type": "stream",
     "text": [
      "C:\\Users\\Marco\\Anaconda\\lib\\site-packages\\IPython\\kernel\\__main__.py:7: SettingWithCopyWarning: \n",
      "A value is trying to be set on a copy of a slice from a DataFrame.\n",
      "Try using .loc[row_indexer,col_indexer] = value instead\n",
      "\n",
      "See the the caveats in the documentation: http://pandas.pydata.org/pandas-docs/stable/indexing.html#indexing-view-versus-copy\n"
     ]
    }
   ],
   "source": [
    "#Df5 is my subset of bnb_br_nearstops data with the relevant columns (excluding the mta station attributes)\n",
    "list_of_drops=['FID','FID_br_sto', 'FID_nybb', 'stop_id', 'stop_code','stop_name', 'stop_desc', 'stop_lat', 'stop_lon', 'zone_id','stop_url', 'location_t', 'parent_sta','FID_nybb', 'BoroCode','BoroName', 'Shape_Leng', 'Shape_Area', 'BUFF_DIST', 'FID_bnb_br','FID_bnb_li', 'FID_nybb_1', 'BoroCode_1','BoroName_1', 'Shape_Le_1', 'Shape_Ar_1']\n",
    "df5=bnb_br_nearstops.drop(list_of_drops,1)\n",
    "#df6 is the same as df5, but im eliminating duplicate rows (airbnb rooms near to multiple subway stations)\n",
    "#safety_indicator is a column which assigns 1 to listings near to a mta station. \n",
    "df6 = df5.drop_duplicates(subset='id', take_last=True)\n",
    "df6['location_indicator']=1\n",
    "#I will keep as df7 the list of just the id and the safety_indicator of the listings. \n",
    "list_of_drops=['name', 'host_id', 'host_name','neighbourh', 'neighbou_1','latitude','longitude', 'room_type', 'price', 'minimum_ni','number_of_', 'last_revie', 'reviews_pe','calculated','availabili','FID_nyctsu']\n",
    "df7=df6.drop(list_of_drops,1)  "
   ]
  },
  {
   "cell_type": "code",
   "execution_count": 7,
   "metadata": {
    "collapsed": false
   },
   "outputs": [
    {
     "name": "stdout",
     "output_type": "stream",
     "text": [
      "mta_indicator 17786 listings 27469 merge 27469\n"
     ]
    }
   ],
   "source": [
    "#Now, I wanna concatenate my two data sets with the indicator: df2 and df7\n",
    "mta_indicator=pd.concat([df2,df7])\n",
    "#and I will merge with the original listings data frame in order to get the result\n",
    "listings_tranps_indicator = pd.merge(mta_indicator,listings,how='right',on=['id'],\n",
    "                                               sort=True,suffixes=('_x', '_y')  )\n",
    "print \"mta_indicator\", len(mta_indicator), \"listings\", len(listings), \"merge\", len(listings_tranps_indicator)\n",
    "\n",
    "listings_tranps_indicator['location_indicator'].fillna(0, inplace=True)\n",
    "\n",
    "listings_tranps_indicator.to_csv('listings_location_indicator.csv')"
   ]
  },
  {
   "cell_type": "code",
   "execution_count": null,
   "metadata": {
    "collapsed": true
   },
   "outputs": [],
   "source": [
    "listings_tranps_indicator"
   ]
  }
 ],
 "metadata": {
  "kernelspec": {
   "display_name": "Python 2",
   "language": "python",
   "name": "python2"
  },
  "language_info": {
   "codemirror_mode": {
    "name": "ipython",
    "version": 2
   },
   "file_extension": ".py",
   "mimetype": "text/x-python",
   "name": "python",
   "nbconvert_exporter": "python",
   "pygments_lexer": "ipython2",
   "version": "2.7.10"
  }
 },
 "nbformat": 4,
 "nbformat_minor": 0
}
